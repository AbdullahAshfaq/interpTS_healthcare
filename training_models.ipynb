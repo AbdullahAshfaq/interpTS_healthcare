{
 "cells": [
  {
   "cell_type": "code",
   "execution_count": null,
   "metadata": {},
   "outputs": [],
   "source": []
  },
  {
   "cell_type": "markdown",
   "metadata": {},
   "source": [
    "# Loading Data"
   ]
  },
  {
   "cell_type": "code",
   "execution_count": 3,
   "metadata": {},
   "outputs": [],
   "source": [
    "from tslearn.datasets import UCR_UEA_datasets\n",
    "from ClassificationModels.CNN_T import UCRDataset\n",
    "\n",
    "import sklearn\n",
    "import numpy as np \n",
    "import os\n",
    "import pandas as pd\n",
    "\n",
    "os.environ[\"CUDA_VISIBLE_DEVICES\"]=\"\" # To avoid use of GPU\n",
    "import torch "
   ]
  },
  {
   "cell_type": "code",
   "execution_count": 6,
   "metadata": {},
   "outputs": [],
   "source": [
    "# dataset='ECG5000'\n",
    "# dataset='ECG200'\n",
    "dataset = 'Epilepsy'"
   ]
  },
  {
   "cell_type": "code",
   "execution_count": 7,
   "metadata": {},
   "outputs": [
    {
     "data": {
      "text/plain": [
       "array([[[ 0.35,  0.22,  0.55],\n",
       "        [ 0.4 ,  0.01,  0.51],\n",
       "        [ 0.44, -0.71,  0.52],\n",
       "        ...,\n",
       "        [ 0.62,  0.72,  0.5 ],\n",
       "        [ 0.65, -0.9 ,  0.55],\n",
       "        [ 0.69, -1.3 ,  0.54]],\n",
       "\n",
       "       [[-0.91, -0.05,  0.06],\n",
       "        [-0.92, -0.02, -1.57],\n",
       "        [-0.95,  0.01, -0.99],\n",
       "        ...,\n",
       "        [-0.47,  0.88, -0.95],\n",
       "        [-0.45,  0.8 , -0.83],\n",
       "        [-0.45,  0.76, -0.78]],\n",
       "\n",
       "       [[ 0.32,  1.  ,  0.37],\n",
       "        [ 0.71, -1.33,  0.37],\n",
       "        [ 0.7 , -1.44,  0.37],\n",
       "        ...,\n",
       "        [ 0.59, -1.04,  0.45],\n",
       "        [ 0.59,  0.47, -0.64],\n",
       "        [ 0.59,  1.23,  0.66]],\n",
       "\n",
       "       ...,\n",
       "\n",
       "       [[ 1.16,  0.9 , -1.03],\n",
       "        [-0.02,  0.59, -1.11],\n",
       "        [-1.04,  0.52, -0.88],\n",
       "        ...,\n",
       "        [-0.51,  0.29, -0.02],\n",
       "        [-0.94,  0.29, -0.02],\n",
       "        [-0.48,  0.29, -0.02]],\n",
       "\n",
       "       [[-0.74, -0.19, -0.14],\n",
       "        [-0.14, -0.24, -0.26],\n",
       "        [ 0.12, -0.34, -0.27],\n",
       "        ...,\n",
       "        [-0.4 , -0.54, -0.45],\n",
       "        [-0.23, -0.43, -0.86],\n",
       "        [-0.27, -0.36, -1.34]],\n",
       "\n",
       "       [[ 1.06, -1.4 , -0.26],\n",
       "        [ 1.14, -1.13, -0.22],\n",
       "        [ 0.37, -0.59, -0.48],\n",
       "        ...,\n",
       "        [ 0.73, -0.18, -0.19],\n",
       "        [ 1.26, -0.6 , -0.24],\n",
       "        [ 0.59, -0.99, -0.06]]])"
      ]
     },
     "execution_count": 7,
     "metadata": {},
     "output_type": "execute_result"
    }
   ],
   "source": [
    "train_x, train_y, test_x, test_y=UCR_UEA_datasets().load_dataset(dataset)\n",
    "train_x"
   ]
  },
  {
   "cell_type": "code",
   "execution_count": 192,
   "metadata": {},
   "outputs": [
    {
     "name": "stderr",
     "output_type": "stream",
     "text": [
      "/mnt/c/D_drive/UCSD/Quarters/Q4/DSC261-RespDS/ts_causal_wsl/lib/python3.11/site-packages/sklearn/preprocessing/_encoders.py:972: FutureWarning: `sparse` was renamed to `sparse_output` in version 1.2 and will be removed in 1.4. `sparse_output` is ignored unless you leave `sparse` to its default value.\n",
      "  warnings.warn(\n"
     ]
    }
   ],
   "source": [
    "#For use with CNN reverse Data Dimensions\n",
    "\n",
    "if dataset in ['ECG200','ECG5000','Epilepsy']:\n",
    "    train_x, train_y, test_x, test_y=UCR_UEA_datasets().load_dataset(dataset)\n",
    "elif dataset == 'ptbxl':\n",
    "    train_x = np.load(f'./datasets/ptbxl/x_train.npy')\n",
    "    train_y = np.load(f'./datasets/ptbxl/y_train.npy')\n",
    "    test_x = np.load(f'./datasets/ptbxl/x_test.npy')\n",
    "    test_y = np.load(f'./datasets/ptbxl/y_test.npy')\n",
    "else:\n",
    "    print(\"ERROR: Dataset not found\")\n",
    "\n",
    "# 1 hot encoding outcomes\n",
    "enc1=sklearn.preprocessing.OneHotEncoder(sparse=False).fit(np.vstack((train_y.reshape(-1,1),test_y.reshape(-1,1))))\n",
    "train_y=enc1.transform(train_y.reshape(-1,1))\n",
    "test_y=enc1.transform(test_y.reshape(-1,1))    \n",
    "\n",
    "n_pred_classes =train_y.shape[1]\n",
    "train_dataset = UCRDataset(train_x.astype(np.float64),train_y.astype(np.int64))\n",
    "test_dataset = UCRDataset(test_x.astype(np.float64),test_y.astype(np.int64))\n",
    "train_loader = torch.utils.data.DataLoader(train_dataset,batch_size=16,shuffle=True)\n",
    "test_loader = torch.utils.data.DataLoader(test_dataset,batch_size=1,shuffle=False)"
   ]
  },
  {
   "cell_type": "code",
   "execution_count": 193,
   "metadata": {},
   "outputs": [],
   "source": [
    "# train_x"
   ]
  },
  {
   "cell_type": "code",
   "execution_count": 194,
   "metadata": {},
   "outputs": [],
   "source": [
    "# # Normalization\n",
    "# print(f\"Before norm on train, min={train_x.min()} and max={train_x.max()}\")\n",
    "\n",
    "# # Normalize along the feature axis\n",
    "# mean = np.mean(train_x, axis=(0, 1), keepdims=True)  # Compute mean across samples and timesteps\n",
    "# std = np.std(train_x, axis=(0, 1), keepdims=True)    # Compute std across samples and timesteps\n",
    "# train_x = (train_x - mean) / std\n",
    "\n",
    "# # Using same mean and std for test\n",
    "# test_x = (test_x - mean) / std\n",
    "\n",
    "# print(f\"After norm on train, min={train_x.min()} and max={train_x.max()}\")\n",
    "\n",
    "\n",
    "# # 0-1 scaling\n",
    "# print(f\"Before 0-1 scaling on train, min={train_x.min()} and max={train_x.max()}\")\n",
    "\n",
    "# # Find the min and max values across the timesteps for each feature\n",
    "# data_min = np.min(train_x, axis=(0, 1), keepdims=True)\n",
    "# data_max = np.max(train_x, axis=(0, 1), keepdims=True)\n",
    "\n",
    "# # Normalize to range [0, 1]\n",
    "# train_x = (train_x - data_min) / (data_max - data_min)\n",
    "# test_x = (test_x - data_min) / (data_max - data_min)\n",
    "# print(f\"Before 0-1 scaling on train, min={train_x.min()} and max={train_x.max()}\")\n"
   ]
  },
  {
   "cell_type": "code",
   "execution_count": 195,
   "metadata": {},
   "outputs": [
    {
     "data": {
      "text/plain": [
       "((137, 206, 3), (137, 4), (138, 206, 3), (138, 4), 4)"
      ]
     },
     "execution_count": 195,
     "metadata": {},
     "output_type": "execute_result"
    }
   ],
   "source": [
    "train_x.shape, train_y.shape, test_x.shape, test_y.shape, n_pred_classes"
   ]
  },
  {
   "cell_type": "code",
   "execution_count": null,
   "metadata": {},
   "outputs": [],
   "source": []
  },
  {
   "cell_type": "markdown",
   "metadata": {},
   "source": [
    "Train:\n",
    "\n",
    "500 samples with 140 time span each and univariate time series (features=1).<br>\n",
    "5 outcomes so categorical classification\n",
    "\n",
    "Test:\n",
    "\n",
    "4500 samples"
   ]
  },
  {
   "cell_type": "code",
   "execution_count": 196,
   "metadata": {},
   "outputs": [
    {
     "data": {
      "text/plain": [
       "(206, 3)"
      ]
     },
     "execution_count": 196,
     "metadata": {},
     "output_type": "execute_result"
    }
   ],
   "source": [
    "model_path = './trained_models'\n",
    "NumTimesteps = train_x.shape[-2]\n",
    "NumFeatures = train_x.shape[-1]\n",
    "NumTimesteps, NumFeatures\n"
   ]
  },
  {
   "cell_type": "markdown",
   "metadata": {},
   "source": [
    "# 1. LSTM Model"
   ]
  },
  {
   "cell_type": "code",
   "execution_count": 141,
   "metadata": {},
   "outputs": [],
   "source": [
    "# from ClassificationModels.LSTM_T import LSTM\n",
    "# from ClassificationModels.CNN_T import ResNetBaseline, get_all_preds, fit, UCRDataset\n",
    "\n",
    "from XTSCBench.ClassificationModels.CNN_T import ResNetBaseline, UCRDataset,fit, get_all_preds\n",
    "from XTSCBench.ClassificationModels.LSTM import LSTM"
   ]
  },
  {
   "cell_type": "code",
   "execution_count": 203,
   "metadata": {},
   "outputs": [],
   "source": [
    "\n",
    "device='cpu'\n",
    "hidden_size=200\n",
    "rnn=0.3\n",
    "input_size = train_x.shape[-1] # univariate or multi?\n",
    "\n",
    "# Save model by this name\n",
    "model_name = f'lstm_{dataset}_h{hidden_size}_drop{rnn}'\n"
   ]
  },
  {
   "cell_type": "code",
   "execution_count": 204,
   "metadata": {},
   "outputs": [
    {
     "data": {
      "text/plain": [
       "3"
      ]
     },
     "execution_count": 204,
     "metadata": {},
     "output_type": "execute_result"
    }
   ],
   "source": [
    "input_size"
   ]
  },
  {
   "cell_type": "code",
   "execution_count": 158,
   "metadata": {},
   "outputs": [
    {
     "name": "stdout",
     "output_type": "stream",
     "text": [
      "Epoch: 1, Train loss: 1.387, Val loss: 1.386\n",
      "Epoch: 2, Train loss: 1.386, Val loss: 1.386\n",
      "Epoch: 3, Train loss: 1.386, Val loss: 1.385\n",
      "Epoch: 4, Train loss: 1.385, Val loss: 1.385\n",
      "Epoch: 5, Train loss: 1.385, Val loss: 1.385\n",
      "Epoch: 6, Train loss: 1.385, Val loss: 1.385\n",
      "Epoch: 7, Train loss: 1.384, Val loss: 1.384\n",
      "Epoch: 8, Train loss: 1.384, Val loss: 1.384\n",
      "Epoch: 9, Train loss: 1.383, Val loss: 1.384\n",
      "Epoch: 10, Train loss: 1.383, Val loss: 1.384\n",
      "Epoch: 11, Train loss: 1.383, Val loss: 1.383\n",
      "Epoch: 12, Train loss: 1.382, Val loss: 1.383\n",
      "Epoch: 13, Train loss: 1.381, Val loss: 1.382\n",
      "Epoch: 14, Train loss: 1.38, Val loss: 1.382\n",
      "Epoch: 15, Train loss: 1.38, Val loss: 1.381\n",
      "Epoch: 16, Train loss: 1.379, Val loss: 1.38\n",
      "Epoch: 17, Train loss: 1.377, Val loss: 1.378\n",
      "Epoch: 18, Train loss: 1.375, Val loss: 1.375\n",
      "Epoch: 19, Train loss: 1.37, Val loss: 1.355\n",
      "Epoch: 20, Train loss: 1.357, Val loss: 1.342\n",
      "Epoch: 21, Train loss: 1.351, Val loss: 1.338\n",
      "Epoch: 22, Train loss: 1.35, Val loss: 1.34\n",
      "Epoch: 23, Train loss: 1.339, Val loss: 1.319\n",
      "Epoch: 24, Train loss: 1.337, Val loss: 1.311\n",
      "Epoch: 25, Train loss: 1.322, Val loss: 1.305\n",
      "Epoch: 26, Train loss: 1.312, Val loss: 1.28\n",
      "Epoch: 27, Train loss: 1.296, Val loss: 1.271\n",
      "Epoch: 28, Train loss: 1.275, Val loss: 1.237\n",
      "Epoch: 29, Train loss: 1.238, Val loss: 1.256\n",
      "Epoch: 30, Train loss: 1.268, Val loss: 1.248\n",
      "Epoch: 31, Train loss: 1.237, Val loss: 1.291\n",
      "Epoch: 32, Train loss: 1.229, Val loss: 1.225\n",
      "Epoch: 33, Train loss: 1.212, Val loss: 1.233\n",
      "Epoch: 34, Train loss: 1.204, Val loss: 1.213\n",
      "Epoch: 35, Train loss: 1.192, Val loss: 1.213\n",
      "Epoch: 36, Train loss: 1.2, Val loss: 1.215\n",
      "Epoch: 37, Train loss: 1.2, Val loss: 1.215\n",
      "Epoch: 38, Train loss: 1.2, Val loss: 1.216\n",
      "Epoch: 39, Train loss: 1.178, Val loss: 1.217\n",
      "Epoch: 40, Train loss: 1.185, Val loss: 1.218\n",
      "Epoch: 41, Train loss: 1.179, Val loss: 1.224\n",
      "Epoch: 42, Train loss: 1.184, Val loss: 1.225\n",
      "Epoch: 43, Train loss: 1.171, Val loss: 1.226\n",
      "Epoch: 44, Train loss: 1.166, Val loss: 1.227\n",
      "Epoch: 45, Train loss: 1.156, Val loss: 1.227\n",
      "Epoch: 46, Train loss: 1.163, Val loss: 1.228\n",
      "Epoch: 47, Train loss: 1.165, Val loss: 1.228\n",
      "Epoch: 48, Train loss: 1.162, Val loss: 1.229\n",
      "Epoch: 49, Train loss: 1.157, Val loss: 1.228\n",
      "Epoch: 50, Train loss: 1.171, Val loss: 1.23\n",
      "Epoch: 51, Train loss: 1.16, Val loss: 1.23\n",
      "Epoch: 52, Train loss: 1.17, Val loss: 1.229\n",
      "Epoch: 53, Train loss: 1.151, Val loss: 1.229\n",
      "Epoch: 54, Train loss: 1.164, Val loss: 1.23\n",
      "Epoch: 55, Train loss: 1.168, Val loss: 1.231\n",
      "Epoch: 56, Train loss: 1.164, Val loss: 1.231\n",
      "Epoch: 57, Train loss: 1.163, Val loss: 1.23\n",
      "Epoch: 58, Train loss: 1.163, Val loss: 1.23\n",
      "Epoch: 59, Train loss: 1.157, Val loss: 1.23\n",
      "Epoch: 60, Train loss: 1.167, Val loss: 1.231\n",
      "Epoch: 61, Train loss: 1.152, Val loss: 1.231\n",
      "Epoch: 62, Train loss: 1.152, Val loss: 1.231\n",
      "Epoch: 63, Train loss: 1.162, Val loss: 1.225\n",
      "Epoch: 64, Train loss: 1.155, Val loss: 1.224\n",
      "Epoch: 65, Train loss: 1.153, Val loss: 1.225\n",
      "Early stopping!\n"
     ]
    }
   ],
   "source": [
    "\n",
    "# if os.path.isfile(f'./saved_models/lstm_{dataset}'):\n",
    "#     model =LSTM(input_size, hidden_size ,n_pred_classes,rnndropout=0.1).to(device) \n",
    "#     model = torch.load(f'./{model_path}/lstm_{dataset}')\n",
    "# else:\n",
    "model =LSTM(input_size, hidden_size ,n_pred_classes,rnndropout=rnn).to(device) \n",
    "fit(model,train_loader,test_loader, learning_rate=0.0001, patience=30)\n",
    "torch.save(model, f'./{model_path}/{model_name}')"
   ]
  },
  {
   "cell_type": "markdown",
   "metadata": {},
   "source": [
    "## Performance on Test Set"
   ]
  },
  {
   "cell_type": "code",
   "execution_count": 205,
   "metadata": {},
   "outputs": [
    {
     "name": "stderr",
     "output_type": "stream",
     "text": [
      "/tmp/ipykernel_34482/413885844.py:1: FutureWarning: You are using `torch.load` with `weights_only=False` (the current default value), which uses the default pickle module implicitly. It is possible to construct malicious pickle data which will execute arbitrary code during unpickling (See https://github.com/pytorch/pytorch/blob/main/SECURITY.md#untrusted-models for more details). In a future release, the default value for `weights_only` will be flipped to `True`. This limits the functions that could be executed during unpickling. Arbitrary objects will no longer be allowed to be loaded via this mode unless they are explicitly allowlisted by the user via `torch.serialization.add_safe_globals`. We recommend you start setting `weights_only=True` for any use case where you don't have full control of the loaded file. Please open an issue on GitHub for any issues related to this experimental feature.\n",
      "  model= torch.load(f'./{model_path}/lstm_Epilepsy_h200_drop0.3_acc58')\n"
     ]
    }
   ],
   "source": [
    "model= torch.load(f'./{model_path}/lstm_Epilepsy_h200_drop0.3_acc58')"
   ]
  },
  {
   "cell_type": "code",
   "execution_count": 206,
   "metadata": {},
   "outputs": [],
   "source": [
    "model.eval()\n",
    "test_preds, ground_truth = get_all_preds(model, test_loader)\n",
    "ground_truth=np.argmax(ground_truth,axis=1)"
   ]
  },
  {
   "cell_type": "code",
   "execution_count": 207,
   "metadata": {},
   "outputs": [],
   "source": [
    "%matplotlib inline\n",
    "import matplotlib.pyplot as plt\n",
    "import seaborn as sns\n",
    "from sklearn.metrics import confusion_matrix, accuracy_score, classification_report, ConfusionMatrixDisplay"
   ]
  },
  {
   "cell_type": "code",
   "execution_count": 208,
   "metadata": {},
   "outputs": [
    {
     "data": {
      "text/plain": [
       "<Figure size 1000x1200 with 0 Axes>"
      ]
     },
     "metadata": {},
     "output_type": "display_data"
    },
    {
     "data": {
      "image/png": "[encoded data removed]",
      "text/plain": [
       "<Figure size 640x480 with 2 Axes>"
      ]
     },
     "metadata": {},
     "output_type": "display_data"
    }
   ],
   "source": [
    "sns.reset_orig() \n",
    "# sns.set(rc={'figure.figsize':(10,12)})\n",
    "plt.figure(figsize=(10,12))\n",
    "# plt.grid(False)\n",
    "\n",
    "heatmap=confusion_matrix(ground_truth, test_preds)\n",
    "disp = ConfusionMatrixDisplay(confusion_matrix=heatmap)\n",
    "disp.plot(cmap=plt.cm.Blues)\n",
    "\n",
    "# sns.heatmap(heatmap, annot=True, cmap=\"coolwarm\")\n",
    "plt.savefig(f'model_metrics/lstm/{model_name}_confusion_matrix.png')\n",
    "plt.show()\n",
    "# plt.close()"
   ]
  },
  {
   "cell_type": "code",
   "execution_count": 209,
   "metadata": {},
   "outputs": [
    {
     "name": "stderr",
     "output_type": "stream",
     "text": [
      "/mnt/c/D_drive/UCSD/Quarters/Q4/DSC261-RespDS/ts_causal_wsl/lib/python3.11/site-packages/sklearn/metrics/_classification.py:1469: UndefinedMetricWarning: Precision and F-score are ill-defined and being set to 0.0 in labels with no predicted samples. Use `zero_division` parameter to control this behavior.\n",
      "  _warn_prf(average, modifier, msg_start, len(result))\n",
      "/mnt/c/D_drive/UCSD/Quarters/Q4/DSC261-RespDS/ts_causal_wsl/lib/python3.11/site-packages/sklearn/metrics/_classification.py:1469: UndefinedMetricWarning: Precision and F-score are ill-defined and being set to 0.0 in labels with no predicted samples. Use `zero_division` parameter to control this behavior.\n",
      "  _warn_prf(average, modifier, msg_start, len(result))\n",
      "/mnt/c/D_drive/UCSD/Quarters/Q4/DSC261-RespDS/ts_causal_wsl/lib/python3.11/site-packages/sklearn/metrics/_classification.py:1469: UndefinedMetricWarning: Precision and F-score are ill-defined and being set to 0.0 in labels with no predicted samples. Use `zero_division` parameter to control this behavior.\n",
      "  _warn_prf(average, modifier, msg_start, len(result))\n"
     ]
    },
    {
     "data": {
      "text/html": [
       "<div>\n",
       "<style scoped>\n",
       "    .dataframe tbody tr th:only-of-type {\n",
       "        vertical-align: middle;\n",
       "    }\n",
       "\n",
       "    .dataframe tbody tr th {\n",
       "        vertical-align: top;\n",
       "    }\n",
       "\n",
       "    .dataframe thead th {\n",
       "        text-align: right;\n",
       "    }\n",
       "</style>\n",
       "<table border=\"1\" class=\"dataframe\">\n",
       "  <thead>\n",
       "    <tr style=\"text-align: right;\">\n",
       "      <th></th>\n",
       "      <th>0</th>\n",
       "      <th>1</th>\n",
       "      <th>2</th>\n",
       "      <th>3</th>\n",
       "      <th>accuracy</th>\n",
       "      <th>macro avg</th>\n",
       "      <th>weighted avg</th>\n",
       "    </tr>\n",
       "  </thead>\n",
       "  <tbody>\n",
       "    <tr>\n",
       "      <th>precision</th>\n",
       "      <td>0.0</td>\n",
       "      <td>0.703704</td>\n",
       "      <td>0.666667</td>\n",
       "      <td>0.478261</td>\n",
       "      <td>0.57971</td>\n",
       "      <td>0.462158</td>\n",
       "      <td>0.461831</td>\n",
       "    </tr>\n",
       "    <tr>\n",
       "      <th>recall</th>\n",
       "      <td>0.0</td>\n",
       "      <td>0.513514</td>\n",
       "      <td>0.933333</td>\n",
       "      <td>0.891892</td>\n",
       "      <td>0.57971</td>\n",
       "      <td>0.584685</td>\n",
       "      <td>0.579710</td>\n",
       "    </tr>\n",
       "    <tr>\n",
       "      <th>f1-score</th>\n",
       "      <td>0.0</td>\n",
       "      <td>0.593750</td>\n",
       "      <td>0.777778</td>\n",
       "      <td>0.622642</td>\n",
       "      <td>0.57971</td>\n",
       "      <td>0.498542</td>\n",
       "      <td>0.495216</td>\n",
       "    </tr>\n",
       "    <tr>\n",
       "      <th>support</th>\n",
       "      <td>34.0</td>\n",
       "      <td>37.000000</td>\n",
       "      <td>30.000000</td>\n",
       "      <td>37.000000</td>\n",
       "      <td>0.57971</td>\n",
       "      <td>138.000000</td>\n",
       "      <td>138.000000</td>\n",
       "    </tr>\n",
       "  </tbody>\n",
       "</table>\n",
       "</div>"
      ],
      "text/plain": [
       "              0          1          2          3  accuracy   macro avg  \\\n",
       "precision   0.0   0.703704   0.666667   0.478261   0.57971    0.462158   \n",
       "recall      0.0   0.513514   0.933333   0.891892   0.57971    0.584685   \n",
       "f1-score    0.0   0.593750   0.777778   0.622642   0.57971    0.498542   \n",
       "support    34.0  37.000000  30.000000  37.000000   0.57971  138.000000   \n",
       "\n",
       "           weighted avg  \n",
       "precision      0.461831  \n",
       "recall         0.579710  \n",
       "f1-score       0.495216  \n",
       "support      138.000000  "
      ]
     },
     "execution_count": 209,
     "metadata": {},
     "output_type": "execute_result"
    }
   ],
   "source": [
    "acc= accuracy_score(ground_truth, test_preds)\n",
    "a = classification_report(ground_truth, test_preds, output_dict=True)\n",
    "dataframe = pd.DataFrame.from_dict(a)\n",
    "dataframe.to_csv(f'model_metrics/lstm/{model_name}_classification_report.csv')\n",
    "dataframe.head()"
   ]
  },
  {
   "cell_type": "markdown",
   "metadata": {},
   "source": [
    "# 2. CNN Model\n",
    "\n",
    "Resnet\n",
    "\n",
    "mode=feat for CNN"
   ]
  },
  {
   "cell_type": "code",
   "execution_count": null,
   "metadata": {},
   "outputs": [],
   "source": []
  },
  {
   "cell_type": "code",
   "execution_count": 172,
   "metadata": {},
   "outputs": [],
   "source": [
    "model = ResNetBaseline(in_channels=NumFeatures, num_pred_classes=n_pred_classes)\n",
    "train_dataset = UCRDataset(train_x.astype(np.float64).reshape(-1,NumFeatures,NumTimesteps),train_y.astype(np.int64))\n",
    "test_dataset = UCRDataset(test_x.astype(np.float64).reshape(-1,NumFeatures,NumTimesteps),test_y.astype(np.int64))\n",
    "train_loader = torch.utils.data.DataLoader(train_dataset,batch_size=16,shuffle=True)\n",
    "test_loader = torch.utils.data.DataLoader(test_dataset,batch_size=1,shuffle=False)"
   ]
  },
  {
   "cell_type": "code",
   "execution_count": 173,
   "metadata": {},
   "outputs": [],
   "source": [
    "model_name = f'cnn_{dataset}'"
   ]
  },
  {
   "cell_type": "code",
   "execution_count": 179,
   "metadata": {},
   "outputs": [
    {
     "name": "stdout",
     "output_type": "stream",
     "text": [
      "Epoch: 1, Train loss: 0.478, Val loss: 0.519\n",
      "Epoch: 2, Train loss: 0.224, Val loss: 0.946\n",
      "Epoch: 3, Train loss: 0.233, Val loss: 1.014\n",
      "Epoch: 4, Train loss: 0.23, Val loss: 0.448\n",
      "Epoch: 5, Train loss: 0.131, Val loss: 0.389\n",
      "Epoch: 6, Train loss: 0.046, Val loss: 0.326\n",
      "Epoch: 7, Train loss: 0.037, Val loss: 0.394\n",
      "Epoch: 8, Train loss: 0.125, Val loss: 0.411\n",
      "Epoch: 9, Train loss: 0.291, Val loss: 0.521\n",
      "Epoch: 10, Train loss: 0.127, Val loss: 0.418\n",
      "Epoch: 11, Train loss: 0.074, Val loss: 0.335\n",
      "Epoch: 12, Train loss: 0.175, Val loss: 0.389\n",
      "Epoch: 13, Train loss: 0.144, Val loss: 0.456\n",
      "Epoch: 14, Train loss: 0.077, Val loss: 0.406\n",
      "Epoch: 15, Train loss: 0.032, Val loss: 0.34\n",
      "Epoch: 16, Train loss: 0.014, Val loss: 0.414\n",
      "Early stopping!\n"
     ]
    }
   ],
   "source": [
    "fit(model,train_loader,test_loader, patience=10)\n",
    "torch.save(model, f'./{model_path}/{model_name}')"
   ]
  },
  {
   "cell_type": "markdown",
   "metadata": {},
   "source": [
    "## Performance on Test Set"
   ]
  },
  {
   "cell_type": "code",
   "execution_count": 180,
   "metadata": {},
   "outputs": [],
   "source": [
    "%matplotlib inline\n",
    "import matplotlib.pyplot as plt\n",
    "import seaborn as sns\n",
    "from sklearn.metrics import confusion_matrix, accuracy_score, classification_report, ConfusionMatrixDisplay"
   ]
  },
  {
   "cell_type": "code",
   "execution_count": 181,
   "metadata": {},
   "outputs": [],
   "source": [
    "model.eval()\n",
    "test_preds, ground_truth = get_all_preds(model, test_loader)\n",
    "ground_truth=np.argmax(ground_truth,axis=1)"
   ]
  },
  {
   "cell_type": "code",
   "execution_count": 182,
   "metadata": {},
   "outputs": [
    {
     "data": {
      "text/plain": [
       "<Figure size 1000x1200 with 0 Axes>"
      ]
     },
     "metadata": {},
     "output_type": "display_data"
    },
    {
     "data": {
      "image/png": "[encoded data removed]",
      "text/plain": [
       "<Figure size 640x480 with 2 Axes>"
      ]
     },
     "metadata": {},
     "output_type": "display_data"
    }
   ],
   "source": [
    "# sns.reset_orig() \n",
    "# sns.set(rc={'figure.figsize':(10,12)})\n",
    "plt.figure(figsize=(10,12))\n",
    "# plt.grid(False)\n",
    "\n",
    "heatmap=confusion_matrix(ground_truth, test_preds)\n",
    "disp = ConfusionMatrixDisplay(confusion_matrix=heatmap)\n",
    "disp.plot(cmap=plt.cm.Blues)\n",
    "\n",
    "# sns.heatmap(heatmap, annot=True, cmap=\"coolwarm\")\n",
    "plt.savefig(f'model_metrics/lstm/{model_name}_confusion_matrix.png')\n",
    "plt.show()\n",
    "# plt.close()"
   ]
  },
  {
   "cell_type": "code",
   "execution_count": 184,
   "metadata": {},
   "outputs": [
    {
     "data": {
      "text/html": [
       "<div>\n",
       "<style scoped>\n",
       "    .dataframe tbody tr th:only-of-type {\n",
       "        vertical-align: middle;\n",
       "    }\n",
       "\n",
       "    .dataframe tbody tr th {\n",
       "        vertical-align: top;\n",
       "    }\n",
       "\n",
       "    .dataframe thead th {\n",
       "        text-align: right;\n",
       "    }\n",
       "</style>\n",
       "<table border=\"1\" class=\"dataframe\">\n",
       "  <thead>\n",
       "    <tr style=\"text-align: right;\">\n",
       "      <th></th>\n",
       "      <th>0</th>\n",
       "      <th>1</th>\n",
       "      <th>2</th>\n",
       "      <th>3</th>\n",
       "      <th>accuracy</th>\n",
       "      <th>macro avg</th>\n",
       "      <th>weighted avg</th>\n",
       "    </tr>\n",
       "  </thead>\n",
       "  <tbody>\n",
       "    <tr>\n",
       "      <th>precision</th>\n",
       "      <td>0.793103</td>\n",
       "      <td>0.973684</td>\n",
       "      <td>0.789474</td>\n",
       "      <td>0.939394</td>\n",
       "      <td>0.876812</td>\n",
       "      <td>0.873914</td>\n",
       "      <td>0.879954</td>\n",
       "    </tr>\n",
       "    <tr>\n",
       "      <th>recall</th>\n",
       "      <td>0.676471</td>\n",
       "      <td>1.000000</td>\n",
       "      <td>1.000000</td>\n",
       "      <td>0.837838</td>\n",
       "      <td>0.876812</td>\n",
       "      <td>0.878577</td>\n",
       "      <td>0.876812</td>\n",
       "    </tr>\n",
       "    <tr>\n",
       "      <th>f1-score</th>\n",
       "      <td>0.730159</td>\n",
       "      <td>0.986667</td>\n",
       "      <td>0.882353</td>\n",
       "      <td>0.885714</td>\n",
       "      <td>0.876812</td>\n",
       "      <td>0.871223</td>\n",
       "      <td>0.873725</td>\n",
       "    </tr>\n",
       "    <tr>\n",
       "      <th>support</th>\n",
       "      <td>34.000000</td>\n",
       "      <td>37.000000</td>\n",
       "      <td>30.000000</td>\n",
       "      <td>37.000000</td>\n",
       "      <td>0.876812</td>\n",
       "      <td>138.000000</td>\n",
       "      <td>138.000000</td>\n",
       "    </tr>\n",
       "  </tbody>\n",
       "</table>\n",
       "</div>"
      ],
      "text/plain": [
       "                   0          1          2          3  accuracy   macro avg  \\\n",
       "precision   0.793103   0.973684   0.789474   0.939394  0.876812    0.873914   \n",
       "recall      0.676471   1.000000   1.000000   0.837838  0.876812    0.878577   \n",
       "f1-score    0.730159   0.986667   0.882353   0.885714  0.876812    0.871223   \n",
       "support    34.000000  37.000000  30.000000  37.000000  0.876812  138.000000   \n",
       "\n",
       "           weighted avg  \n",
       "precision      0.879954  \n",
       "recall         0.876812  \n",
       "f1-score       0.873725  \n",
       "support      138.000000  "
      ]
     },
     "execution_count": 184,
     "metadata": {},
     "output_type": "execute_result"
    }
   ],
   "source": [
    "acc= accuracy_score(ground_truth, test_preds)\n",
    "a = classification_report(ground_truth, test_preds, output_dict=True)\n",
    "dataframe = pd.DataFrame.from_dict(a)\n",
    "dataframe.to_csv(f'model_metrics/lstm/{model_name}_classification_report.csv')\n",
    "dataframe.head()"
   ]
  },
  {
   "cell_type": "code",
   "execution_count": null,
   "metadata": {},
   "outputs": [],
   "source": []
  },
  {
   "cell_type": "markdown",
   "metadata": {},
   "source": [
    "# 3. Transformer Model"
   ]
  },
  {
   "cell_type": "code",
   "execution_count": 10,
   "metadata": {},
   "outputs": [
    {
     "name": "stderr",
     "output_type": "stream",
     "text": [
      "2024-12-01 01:13:26.536497: I tensorflow/core/util/port.cc:111] oneDNN custom operations are on. You may see slightly different numerical results due to floating-point round-off errors from different computation orders. To turn them off, set the environment variable `TF_ENABLE_ONEDNN_OPTS=0`.\n",
      "2024-12-01 01:13:27.177530: I tensorflow/tsl/cuda/cudart_stub.cc:28] Could not find cuda drivers on your machine, GPU will not be used.\n",
      "2024-12-01 01:13:29.235729: E tensorflow/compiler/xla/stream_executor/cuda/cuda_dnn.cc:9342] Unable to register cuDNN factory: Attempting to register factory for plugin cuDNN when one has already been registered\n",
      "2024-12-01 01:13:29.235770: E tensorflow/compiler/xla/stream_executor/cuda/cuda_fft.cc:609] Unable to register cuFFT factory: Attempting to register factory for plugin cuFFT when one has already been registered\n",
      "2024-12-01 01:13:29.260570: E tensorflow/compiler/xla/stream_executor/cuda/cuda_blas.cc:1518] Unable to register cuBLAS factory: Attempting to register factory for plugin cuBLAS when one has already been registered\n",
      "2024-12-01 01:13:29.981405: I tensorflow/core/platform/cpu_feature_guard.cc:182] This TensorFlow binary is optimized to use available CPU instructions in performance-critical operations.\n",
      "To enable the following instructions: AVX2 AVX_VNNI FMA, in other operations, rebuild TensorFlow with the appropriate compiler flags.\n",
      "2024-12-01 01:13:45.432236: W tensorflow/compiler/tf2tensorrt/utils/py_utils.cc:38] TF-TRT Warning: Could not find TensorRT\n",
      "/mnt/c/D_drive/UCSD/Quarters/Q4/DSC261-RespDS/ts_causal_wsl/lib/python3.11/site-packages/tqdm/auto.py:21: TqdmWarning: IProgress not found. Please update jupyter and ipywidgets. See https://ipywidgets.readthedocs.io/en/stable/user_install.html\n",
      "  from .autonotebook import tqdm as notebook_tqdm\n"
     ]
    }
   ],
   "source": [
    "from XTSCBench.ClassificationModels.Transformer import Transformer"
   ]
  },
  {
   "cell_type": "code",
   "execution_count": 13,
   "metadata": {},
   "outputs": [],
   "source": [
    "model=Transformer(input_size=train_x.shape[0], seq_len=NumTimesteps, N=6, heads=5, dropout=0.1, num_classes=n_pred_classes, time=50)"
   ]
  },
  {
   "cell_type": "code",
   "execution_count": 14,
   "metadata": {},
   "outputs": [
    {
     "data": {
      "text/plain": [
       "Transformer(\n",
       "  (encoder): Encoder(\n",
       "    (pe): PositionalEncoder(\n",
       "      (dropout): Dropout(p=0.1, inplace=False)\n",
       "    )\n",
       "    (layers): ModuleList(\n",
       "      (0-5): 6 x EncoderLayer(\n",
       "        (norm_1): Norm()\n",
       "        (norm_2): Norm()\n",
       "        (attn): MultiHeadAttention(\n",
       "          (q_linear): Linear(in_features=500, out_features=500, bias=True)\n",
       "          (v_linear): Linear(in_features=500, out_features=500, bias=True)\n",
       "          (k_linear): Linear(in_features=500, out_features=500, bias=True)\n",
       "          (dropout): Dropout(p=0.1, inplace=False)\n",
       "          (out): Linear(in_features=500, out_features=500, bias=True)\n",
       "        )\n",
       "        (ff): FeedForward(\n",
       "          (linear_1): Linear(in_features=500, out_features=400, bias=True)\n",
       "          (dropout): Dropout(p=0.1, inplace=False)\n",
       "          (linear_2): Linear(in_features=400, out_features=500, bias=True)\n",
       "        )\n",
       "        (dropout_1): Dropout(p=0.1, inplace=False)\n",
       "        (dropout_2): Dropout(p=0.1, inplace=False)\n",
       "      )\n",
       "    )\n",
       "    (norm): Norm()\n",
       "  )\n",
       "  (out): Linear(in_features=500, out_features=5, bias=True)\n",
       "  (tempmaxpool): MaxPool1d(kernel_size=50, stride=50, padding=0, dilation=1, ceil_mode=False)\n",
       ")"
      ]
     },
     "execution_count": 14,
     "metadata": {},
     "output_type": "execute_result"
    }
   ],
   "source": [
    "model"
   ]
  },
  {
   "cell_type": "code",
   "execution_count": 17,
   "metadata": {},
   "outputs": [
    {
     "ename": "RuntimeError",
     "evalue": "mat1 and mat2 shapes cannot be multiplied (8000x2 and 500x5)",
     "output_type": "error",
     "traceback": [
      "\u001b[0;31m---------------------------------------------------------------------------\u001b[0m",
      "\u001b[0;31mRuntimeError\u001b[0m                              Traceback (most recent call last)",
      "Cell \u001b[0;32mIn [17], line 1\u001b[0m\n\u001b[0;32m----> 1\u001b[0m \u001b[43mfit\u001b[49m\u001b[43m(\u001b[49m\u001b[43mmodel\u001b[49m\u001b[43m,\u001b[49m\u001b[43mtrain_loader\u001b[49m\u001b[43m,\u001b[49m\u001b[43mtest_loader\u001b[49m\u001b[43m)\u001b[49m\n",
      "File \u001b[0;32m/mnt/c/D_drive/UCSD/Quarters/Q4/DSC261-RespDS/ts_causal_wsl/lib/python3.11/site-packages/XTSCBench/ClassificationModels/CNN_T.py:178\u001b[0m, in \u001b[0;36mfit\u001b[0;34m(model, train_loader, val_loader, num_epochs, val_size, learning_rate, patience)\u001b[0m\n\u001b[1;32m    176\u001b[0m \u001b[38;5;28;01mfor\u001b[39;00m x_t, y_t \u001b[38;5;129;01min\u001b[39;00m train_loader:\n\u001b[1;32m    177\u001b[0m     optimizer\u001b[38;5;241m.\u001b[39mzero_grad()\n\u001b[0;32m--> 178\u001b[0m     output \u001b[38;5;241m=\u001b[39m \u001b[43mmodel\u001b[49m\u001b[43m(\u001b[49m\u001b[43mx_t\u001b[49m\u001b[38;5;241;43m.\u001b[39;49m\u001b[43mfloat\u001b[49m\u001b[43m(\u001b[49m\u001b[43m)\u001b[49m\u001b[43m)\u001b[49m\n\u001b[1;32m    179\u001b[0m     \u001b[38;5;28;01mif\u001b[39;00m \u001b[38;5;28mlen\u001b[39m(y_t\u001b[38;5;241m.\u001b[39mshape) \u001b[38;5;241m==\u001b[39m \u001b[38;5;241m1\u001b[39m:\n\u001b[1;32m    180\u001b[0m         train_loss \u001b[38;5;241m=\u001b[39m F\u001b[38;5;241m.\u001b[39mbinary_cross_entropy_with_logits(\n\u001b[1;32m    181\u001b[0m             output, y_t\u001b[38;5;241m.\u001b[39munsqueeze(\u001b[38;5;241m-\u001b[39m\u001b[38;5;241m1\u001b[39m)\u001b[38;5;241m.\u001b[39mfloat(), reduction\u001b[38;5;241m=\u001b[39m\u001b[38;5;124m'\u001b[39m\u001b[38;5;124mmean\u001b[39m\u001b[38;5;124m'\u001b[39m\n\u001b[1;32m    182\u001b[0m         )\n",
      "File \u001b[0;32m/mnt/c/D_drive/UCSD/Quarters/Q4/DSC261-RespDS/ts_causal_wsl/lib/python3.11/site-packages/torch/nn/modules/module.py:1736\u001b[0m, in \u001b[0;36mModule._wrapped_call_impl\u001b[0;34m(self, *args, **kwargs)\u001b[0m\n\u001b[1;32m   1734\u001b[0m     \u001b[38;5;28;01mreturn\u001b[39;00m \u001b[38;5;28mself\u001b[39m\u001b[38;5;241m.\u001b[39m_compiled_call_impl(\u001b[38;5;241m*\u001b[39margs, \u001b[38;5;241m*\u001b[39m\u001b[38;5;241m*\u001b[39mkwargs)  \u001b[38;5;66;03m# type: ignore[misc]\u001b[39;00m\n\u001b[1;32m   1735\u001b[0m \u001b[38;5;28;01melse\u001b[39;00m:\n\u001b[0;32m-> 1736\u001b[0m     \u001b[38;5;28;01mreturn\u001b[39;00m \u001b[38;5;28;43mself\u001b[39;49m\u001b[38;5;241;43m.\u001b[39;49m\u001b[43m_call_impl\u001b[49m\u001b[43m(\u001b[49m\u001b[38;5;241;43m*\u001b[39;49m\u001b[43margs\u001b[49m\u001b[43m,\u001b[49m\u001b[43m \u001b[49m\u001b[38;5;241;43m*\u001b[39;49m\u001b[38;5;241;43m*\u001b[39;49m\u001b[43mkwargs\u001b[49m\u001b[43m)\u001b[49m\n",
      "File \u001b[0;32m/mnt/c/D_drive/UCSD/Quarters/Q4/DSC261-RespDS/ts_causal_wsl/lib/python3.11/site-packages/torch/nn/modules/module.py:1747\u001b[0m, in \u001b[0;36mModule._call_impl\u001b[0;34m(self, *args, **kwargs)\u001b[0m\n\u001b[1;32m   1742\u001b[0m \u001b[38;5;66;03m# If we don't have any hooks, we want to skip the rest of the logic in\u001b[39;00m\n\u001b[1;32m   1743\u001b[0m \u001b[38;5;66;03m# this function, and just call forward.\u001b[39;00m\n\u001b[1;32m   1744\u001b[0m \u001b[38;5;28;01mif\u001b[39;00m \u001b[38;5;129;01mnot\u001b[39;00m (\u001b[38;5;28mself\u001b[39m\u001b[38;5;241m.\u001b[39m_backward_hooks \u001b[38;5;129;01mor\u001b[39;00m \u001b[38;5;28mself\u001b[39m\u001b[38;5;241m.\u001b[39m_backward_pre_hooks \u001b[38;5;129;01mor\u001b[39;00m \u001b[38;5;28mself\u001b[39m\u001b[38;5;241m.\u001b[39m_forward_hooks \u001b[38;5;129;01mor\u001b[39;00m \u001b[38;5;28mself\u001b[39m\u001b[38;5;241m.\u001b[39m_forward_pre_hooks\n\u001b[1;32m   1745\u001b[0m         \u001b[38;5;129;01mor\u001b[39;00m _global_backward_pre_hooks \u001b[38;5;129;01mor\u001b[39;00m _global_backward_hooks\n\u001b[1;32m   1746\u001b[0m         \u001b[38;5;129;01mor\u001b[39;00m _global_forward_hooks \u001b[38;5;129;01mor\u001b[39;00m _global_forward_pre_hooks):\n\u001b[0;32m-> 1747\u001b[0m     \u001b[38;5;28;01mreturn\u001b[39;00m \u001b[43mforward_call\u001b[49m\u001b[43m(\u001b[49m\u001b[38;5;241;43m*\u001b[39;49m\u001b[43margs\u001b[49m\u001b[43m,\u001b[49m\u001b[43m \u001b[49m\u001b[38;5;241;43m*\u001b[39;49m\u001b[38;5;241;43m*\u001b[39;49m\u001b[43mkwargs\u001b[49m\u001b[43m)\u001b[49m\n\u001b[1;32m   1749\u001b[0m result \u001b[38;5;241m=\u001b[39m \u001b[38;5;28;01mNone\u001b[39;00m\n\u001b[1;32m   1750\u001b[0m called_always_called_hooks \u001b[38;5;241m=\u001b[39m \u001b[38;5;28mset\u001b[39m()\n",
      "File \u001b[0;32m/mnt/c/D_drive/UCSD/Quarters/Q4/DSC261-RespDS/ts_causal_wsl/lib/python3.11/site-packages/XTSCBench/ClassificationModels/Transformer.py:218\u001b[0m, in \u001b[0;36mTransformer.forward\u001b[0;34m(self, src, returnWeights)\u001b[0m\n\u001b[1;32m    215\u001b[0m     e_outputs \u001b[38;5;241m=\u001b[39m \u001b[38;5;28mself\u001b[39m\u001b[38;5;241m.\u001b[39mencoder(src,mask)\n\u001b[1;32m    217\u001b[0m e_outputs\u001b[38;5;241m=\u001b[39m\u001b[38;5;28mself\u001b[39m\u001b[38;5;241m.\u001b[39mtempmaxpool(e_outputs\u001b[38;5;241m.\u001b[39mtranspose(\u001b[38;5;241m1\u001b[39m, \u001b[38;5;241m2\u001b[39m))\u001b[38;5;241m.\u001b[39msqueeze(\u001b[38;5;241m-\u001b[39m\u001b[38;5;241m1\u001b[39m)\n\u001b[0;32m--> 218\u001b[0m output \u001b[38;5;241m=\u001b[39m \u001b[38;5;28;43mself\u001b[39;49m\u001b[38;5;241;43m.\u001b[39;49m\u001b[43mout\u001b[49m\u001b[43m(\u001b[49m\u001b[43me_outputs\u001b[49m\u001b[43m)\u001b[49m\n\u001b[1;32m    219\u001b[0m output \u001b[38;5;241m=\u001b[39mF\u001b[38;5;241m.\u001b[39msoftmax(output, dim\u001b[38;5;241m=\u001b[39m\u001b[38;5;241m1\u001b[39m)\n\u001b[1;32m    220\u001b[0m \u001b[38;5;28;01mif\u001b[39;00m(returnWeights):\n",
      "File \u001b[0;32m/mnt/c/D_drive/UCSD/Quarters/Q4/DSC261-RespDS/ts_causal_wsl/lib/python3.11/site-packages/torch/nn/modules/module.py:1736\u001b[0m, in \u001b[0;36mModule._wrapped_call_impl\u001b[0;34m(self, *args, **kwargs)\u001b[0m\n\u001b[1;32m   1734\u001b[0m     \u001b[38;5;28;01mreturn\u001b[39;00m \u001b[38;5;28mself\u001b[39m\u001b[38;5;241m.\u001b[39m_compiled_call_impl(\u001b[38;5;241m*\u001b[39margs, \u001b[38;5;241m*\u001b[39m\u001b[38;5;241m*\u001b[39mkwargs)  \u001b[38;5;66;03m# type: ignore[misc]\u001b[39;00m\n\u001b[1;32m   1735\u001b[0m \u001b[38;5;28;01melse\u001b[39;00m:\n\u001b[0;32m-> 1736\u001b[0m     \u001b[38;5;28;01mreturn\u001b[39;00m \u001b[38;5;28;43mself\u001b[39;49m\u001b[38;5;241;43m.\u001b[39;49m\u001b[43m_call_impl\u001b[49m\u001b[43m(\u001b[49m\u001b[38;5;241;43m*\u001b[39;49m\u001b[43margs\u001b[49m\u001b[43m,\u001b[49m\u001b[43m \u001b[49m\u001b[38;5;241;43m*\u001b[39;49m\u001b[38;5;241;43m*\u001b[39;49m\u001b[43mkwargs\u001b[49m\u001b[43m)\u001b[49m\n",
      "File \u001b[0;32m/mnt/c/D_drive/UCSD/Quarters/Q4/DSC261-RespDS/ts_causal_wsl/lib/python3.11/site-packages/torch/nn/modules/module.py:1747\u001b[0m, in \u001b[0;36mModule._call_impl\u001b[0;34m(self, *args, **kwargs)\u001b[0m\n\u001b[1;32m   1742\u001b[0m \u001b[38;5;66;03m# If we don't have any hooks, we want to skip the rest of the logic in\u001b[39;00m\n\u001b[1;32m   1743\u001b[0m \u001b[38;5;66;03m# this function, and just call forward.\u001b[39;00m\n\u001b[1;32m   1744\u001b[0m \u001b[38;5;28;01mif\u001b[39;00m \u001b[38;5;129;01mnot\u001b[39;00m (\u001b[38;5;28mself\u001b[39m\u001b[38;5;241m.\u001b[39m_backward_hooks \u001b[38;5;129;01mor\u001b[39;00m \u001b[38;5;28mself\u001b[39m\u001b[38;5;241m.\u001b[39m_backward_pre_hooks \u001b[38;5;129;01mor\u001b[39;00m \u001b[38;5;28mself\u001b[39m\u001b[38;5;241m.\u001b[39m_forward_hooks \u001b[38;5;129;01mor\u001b[39;00m \u001b[38;5;28mself\u001b[39m\u001b[38;5;241m.\u001b[39m_forward_pre_hooks\n\u001b[1;32m   1745\u001b[0m         \u001b[38;5;129;01mor\u001b[39;00m _global_backward_pre_hooks \u001b[38;5;129;01mor\u001b[39;00m _global_backward_hooks\n\u001b[1;32m   1746\u001b[0m         \u001b[38;5;129;01mor\u001b[39;00m _global_forward_hooks \u001b[38;5;129;01mor\u001b[39;00m _global_forward_pre_hooks):\n\u001b[0;32m-> 1747\u001b[0m     \u001b[38;5;28;01mreturn\u001b[39;00m \u001b[43mforward_call\u001b[49m\u001b[43m(\u001b[49m\u001b[38;5;241;43m*\u001b[39;49m\u001b[43margs\u001b[49m\u001b[43m,\u001b[49m\u001b[43m \u001b[49m\u001b[38;5;241;43m*\u001b[39;49m\u001b[38;5;241;43m*\u001b[39;49m\u001b[43mkwargs\u001b[49m\u001b[43m)\u001b[49m\n\u001b[1;32m   1749\u001b[0m result \u001b[38;5;241m=\u001b[39m \u001b[38;5;28;01mNone\u001b[39;00m\n\u001b[1;32m   1750\u001b[0m called_always_called_hooks \u001b[38;5;241m=\u001b[39m \u001b[38;5;28mset\u001b[39m()\n",
      "File \u001b[0;32m/mnt/c/D_drive/UCSD/Quarters/Q4/DSC261-RespDS/ts_causal_wsl/lib/python3.11/site-packages/torch/nn/modules/linear.py:125\u001b[0m, in \u001b[0;36mLinear.forward\u001b[0;34m(self, input)\u001b[0m\n\u001b[1;32m    124\u001b[0m \u001b[38;5;28;01mdef\u001b[39;00m \u001b[38;5;21mforward\u001b[39m(\u001b[38;5;28mself\u001b[39m, \u001b[38;5;28minput\u001b[39m: Tensor) \u001b[38;5;241m-\u001b[39m\u001b[38;5;241m>\u001b[39m Tensor:\n\u001b[0;32m--> 125\u001b[0m     \u001b[38;5;28;01mreturn\u001b[39;00m \u001b[43mF\u001b[49m\u001b[38;5;241;43m.\u001b[39;49m\u001b[43mlinear\u001b[49m\u001b[43m(\u001b[49m\u001b[38;5;28;43minput\u001b[39;49m\u001b[43m,\u001b[49m\u001b[43m \u001b[49m\u001b[38;5;28;43mself\u001b[39;49m\u001b[38;5;241;43m.\u001b[39;49m\u001b[43mweight\u001b[49m\u001b[43m,\u001b[49m\u001b[43m \u001b[49m\u001b[38;5;28;43mself\u001b[39;49m\u001b[38;5;241;43m.\u001b[39;49m\u001b[43mbias\u001b[49m\u001b[43m)\u001b[49m\n",
      "\u001b[0;31mRuntimeError\u001b[0m: mat1 and mat2 shapes cannot be multiplied (8000x2 and 500x5)"
     ]
    }
   ],
   "source": [
    "fit(model,train_loader,test_loader)"
   ]
  },
  {
   "cell_type": "code",
   "execution_count": null,
   "metadata": {},
   "outputs": [],
   "source": []
  }
 ],
 "metadata": {
  "kernelspec": {
   "display_name": "ts_causal_wsl",
   "language": "python",
   "name": "python3"
  },
  "language_info": {
   "codemirror_mode": {
    "name": "ipython",
    "version": 3
   },
   "file_extension": ".py",
   "mimetype": "text/x-python",
   "name": "python",
   "nbconvert_exporter": "python",
   "pygments_lexer": "ipython3",
   "version": "3.11.6"
  }
 },
 "nbformat": 4,
 "nbformat_minor": 2
}
